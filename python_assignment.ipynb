{
 "cells": [
  {
   "cell_type": "markdown",
   "metadata": {
    "id": "BKCrcukdE8Bb"
   },
   "source": [
    "# Assignment: Classification\n",
    "\n",
    "Classification refers to categorizing the given data into classes. For example,\n",
    "- Given an image of hand-written character, identifying the character (multi-class classification)\n",
    "- Given an image, annotating it with all the objects present in the image (multi-label classification)\n",
    "- Classifying an email as spam or non-spam (binary classification)\n",
    "- Classifying a tumor as benign or malignant and so on\n",
    "\n",
    "In this assignment, we will be building a classifier to classify emails as spam or non-spam. We will be using the Kaggle dataset [Spam or Not Spam Dataset](https://www.kaggle.com/datasets/ozlerhakan/spam-or-not-spam-dataset?resource=download) for this task. \n",
    "\n",
    "**Note**: You cannot load any libraries other than the mentioned ones.\n",
    "\n",
    "\n"
   ]
  },
  {
   "cell_type": "markdown",
   "metadata": {
    "id": "Irp6f7_2crfu"
   },
   "source": [
    "### Data pre-processing\n",
    "The first step in every machine learning algorithm is to process the raw data in some meaningful representations. We will be using the [Bag-of-Words](https://towardsdatascience.com/a-simple-explanation-of-the-bag-of-words-model-b88fc4f4971) representation to process the text. It comprises of following steps:\n",
    "\n",
    "- Process emails line-by-line to extract all the words.\n",
    "- Replace extracted words by their stem (root) word. This is known as stemming and lematization.\n",
    "- Remove stop words like and, or, is, am, and so on.\n",
    "- Assign a unique index to each word. This forms the vocabulary.\n",
    "- Represent each email as a binary vector of length equal to the size of the vocabulary such that the $i^{th}$ element of the vector is 1 iff the $i^th$ word is present in the email.\n",
    "\n",
    "Here we provide you with the function signature along with the expected functionality. You are expected to complete them accordingly. "
   ]
  },
  {
   "cell_type": "code",
   "execution_count": 54,
   "metadata": {
    "id": "wIlTOyyPn-mN",
    "tags": []
   },
   "outputs": [],
   "source": [
    "import numpy as np\n",
    "import csv\n",
    "import nltk\n",
    "from nltk.stem import PorterStemmer\n",
    "from nltk.corpus import stopwords\n",
    "\n",
    "port = PorterStemmer()\n",
    "lines=[]\n",
    "with open('spam_or_not_spam.csv', 'r') as f:\n",
    "    for row in f:\n",
    "        lines.append(row.split(',')[0])\n",
    "\n",
    "# takes an email as an argument\n",
    "# read email line-by-line and extract all the words\n",
    "# return list of extracted words\n",
    "\n",
    "def read_email(lines):\n",
    "    words=[[]]\n",
    "    np.array(words)\n",
    "    for i in lines:\n",
    "        a=[]\n",
    "        a.append(i.split(' '))\n",
    "        words.append(np.array(a))\n",
    "    words.pop(0)\n",
    "    words.pop(0)\n",
    "    return words\n",
    "# # takes a list of words as an argument\n",
    "# # replace each word by their stem word\n",
    "# # return list of stem words\n",
    "def steming(a):\n",
    "    for i in range(0,3000):\n",
    "        ps = PorterStemmer()\n",
    "        k=[]\n",
    "        for j in a[i]:\n",
    "            k.append(ps.stem(j)) \n",
    "        a[i]=k\n",
    "    return a\n",
    "\n",
    "# # takes a list of stem-words as an argument\n",
    "# # remove stop words\n",
    "# # return list of stem words after removing stop words\n",
    "def remove_stop_words(a):\n",
    "    stop_words = set(stopwords.words('english'))\n",
    "    for word in a:\n",
    "        for j in word:\n",
    "            if j in stop_words:\n",
    "                word.remove(j)\n",
    "            if j=='':\n",
    "                word.remove(j)\n",
    "    return a\n",
    "\n",
    "# # takes a list of stem-words as an argument\n",
    "# # add new words to the vocabulary and assign a unique index to them\n",
    "# # returns new vocabulary\n",
    "def build_vocabulary(a):\n",
    "    Vocab=[]\n",
    "    for wordl in a:\n",
    "        for word in wordl:\n",
    "            if not word in Vocab:\n",
    "                Vocab.append(word)\n",
    "    return Vocab\n",
    "\n",
    "# # takes a list of stem-words and vocabulary as an argument\n",
    "# # returns bow representation\n",
    "def get_bow(a,vocab):\n",
    "    bow=[]\n",
    "    \n",
    "    for words in a:\n",
    "        l=np.zeros(len(vocab))\n",
    "        j=0\n",
    "        for k in vocab:\n",
    "            if k in words:\n",
    "                l[j]=1\n",
    "            j=j+1\n",
    "        \n",
    "        bow.append(l)\n",
    "    return bow\n",
    "\n",
    "# # read the entire dataset\n",
    "# # convert emails to bow and maintain their labels\n",
    "# # call function text_to_bow()\n",
    "def read_data():\n",
    "    return data\n",
    "words=read_email(lines)\n",
    "a=[]\n",
    "np.array(a)\n",
    "for i in range(0,3000):\n",
    "    a.append(words[i][0])\n",
    "a=steming(a)   \n",
    "\n",
    "a=remove_stop_words(a)\n",
    "vocab=build_vocabulary(a)\n",
    "bow=get_bow(a,vocab)"
   ]
  },
  {
   "cell_type": "markdown",
   "metadata": {
    "id": "d0cDiGt6nkPY"
   },
   "source": [
    "### Data Visualization\n",
    "Let's understand the data distribution\n",
    "- Visualize the frequency of word-occurence in all the emails(spam + non-spam)\n",
    "- Visualize the freuency of word-occurence for spam and non-spam emails separately"
   ]
  },
  {
   "cell_type": "code",
   "execution_count": 58,
   "metadata": {
    "id": "4vJLcTxDLZsh"
   },
   "outputs": [
    {
     "data": {
      "text/plain": [
       "<matplotlib.image.AxesImage at 0x7fd1112c39a0>"
      ]
     },
     "execution_count": 58,
     "metadata": {},
     "output_type": "execute_result"
    },
    {
     "data": {
      "image/png": "[encoded data removed]",
      "text/plain": [
       "<Figure size 1152x144 with 1 Axes>"
      ]
     },
     "metadata": {
      "needs_background": "light"
     },
     "output_type": "display_data"
    }
   ],
   "source": [
    "\n",
    "import matplotlib.pyplot as plt\n",
    "\n",
    "# visuallze data distribution\n",
    "def data_vis():\n",
    "      return\n",
    "plt.matshow(bow)\n"
   ]
  },
  {
   "cell_type": "markdown",
   "metadata": {
    "id": "LPq-3nTzGcdX"
   },
   "source": [
    "### Learn a Classifier\n",
    "Split the dataset randomly in the ratio 80:20 as the training and test dataset. Use only training dataset to learn the classifier. No test data should be used during training. Test data will only be used during evaluation.\n",
    "\n",
    "Now let us try to use ML algorithms to classify emails as spam or non-spam. You are supposed to implement [SVM](https://scikit-learn.org/stable/modules/svm.html) and [K-Nearest Neighbour](https://scikit-learn.org/stable/modules/generated/sklearn.neighbors.KNeighborsClassifier.html) algorithm available in scikit-learn using the same training dataset for both."
   ]
  },
  {
   "cell_type": "code",
   "execution_count": 73,
   "metadata": {
    "id": "IMpuaPCKHxwh"
   },
   "outputs": [],
   "source": [
    "from sklearn.neighbors import KNeighborsClassifier\n",
    "from sklearn import svm\n",
    "\n",
    "# split dataset\n",
    "def split(data):\n",
    "    train=[]\n",
    "    test=[]\n",
    "    for i in range(0,1875):\n",
    "        train.append(bow[i])\n",
    "    for i in range(1875,2500):\n",
    "        test.append(bow[i])\n",
    "    for i in range(2500,2875):\n",
    "        train.append(bow[i])\n",
    "    for i in range(2875,3000):\n",
    "        test.append(bow[i])\n",
    "    return train, test\n",
    "\n",
    "# learn a SVM model\n",
    "# use the model to make prediction\n",
    "# return the model predictions on train and test dataset\n",
    "def svm_classifier(X,test):\n",
    "    y=np.zeros(2250)\n",
    "    for i in range(1876,2250):\n",
    "        y[i]=1\n",
    "    from sklearn.svm import SVC\n",
    "    svmm = SVC(kernel = 'linear',gamma = 'scale', shrinking = False,)\n",
    "    svmm.fit(X, y)\n",
    "    return svmm.predict(test)\n",
    "\n",
    "# implement k-NN algorithm\n",
    "# use the model to make prediction\n",
    "# return the model predictions on train and test dataset\n",
    "def knn_classifier(X,test):\n",
    "    neigh = KNeighborsClassifier(n_neighbors=2)\n",
    "    y=np.zeros(2250)\n",
    "    for i in range(1876,2250):\n",
    "        y[i]=1\n",
    "    neigh.fit(X, y)\n",
    "    return neigh.predict(test)\n",
    "\n",
    "train_data, test_data = split(bow)\n",
    "svm_test_predictions = svm_classifier(train_data, test_data)\n",
    "knn_test_predictions = knn_classifier(train_data, test_data)"
   ]
  },
  {
   "cell_type": "markdown",
   "metadata": {
    "id": "SlCwYvluHqQz"
   },
   "source": [
    "### Model Evaluation\n",
    "Compare the SVM and k-NN model using metrics\n",
    "- Accuracy\n",
    "- [AUC score](https://scikit-learn.org/stable/modules/generated/sklearn.metrics.auc.html)\n"
   ]
  },
  {
   "cell_type": "code",
   "execution_count": 75,
   "metadata": {
    "id": "X3KmcTpqKbGI"
   },
   "outputs": [
    {
     "name": "stdout",
     "output_type": "stream",
     "text": [
      "Accuracy svm: 98.8\n",
      "Accuracy knn: 94.0\n",
      "AUC svm: 0.988\n",
      "AUC knn: 0.94\n"
     ]
    }
   ],
   "source": [
    "from sklearn import metrics\n",
    "yl=np.zeros(750)\n",
    "for i in range(625,750):\n",
    "    yl[i]=1\n",
    "# compute accuracy \n",
    "def compute_accuracy(true_labels, predicted_labels):\n",
    "    sum=0\n",
    "    for i in range(0,len(true_labels)):\n",
    "        if true_labels[i]!=predicted_labels[i]:\n",
    "            sum+=1\n",
    "    return (1-(sum/len(true_labels)))*100\n",
    "# compute AUC score \n",
    "def compute_auc(true_labels, predicted_labels):\n",
    "    sum=0\n",
    "    for i in range(0,len(true_labels)):\n",
    "        if true_labels[i]!=predicted_labels[i]:\n",
    "            sum+=1\n",
    "    return 1-(sum/len(true_labels))\n",
    "\n",
    "print(\"Accuracy svm:\",compute_accuracy(yl, svm_test_predictions))\n",
    "print(\"Accuracy knn:\",compute_accuracy(yl, knn_test_predictions))\n",
    "print(\"AUC svm:\",compute_auc(yl, svm_test_predictions))\n",
    "print(\"AUC knn:\",compute_auc(yl, knn_test_predictions))\n",
    "# write code to print train and test accuracy and AUC score of SVM and k-NN classifier"
   ]
  },
  {
   "cell_type": "code",
   "execution_count": null,
   "metadata": {},
   "outputs": [],
   "source": []
  }
 ],
 "metadata": {
  "colab": {
   "collapsed_sections": [],
   "name": "python-assignment.ipynb",
   "provenance": []
  },
  "kernelspec": {
   "display_name": "Python 3 (ipykernel)",
   "language": "python",
   "name": "python3"
  },
  "language_info": {
   "codemirror_mode": {
    "name": "ipython",
    "version": 3
   },
   "file_extension": ".py",
   "mimetype": "text/x-python",
   "name": "python",
   "nbconvert_exporter": "python",
   "pygments_lexer": "ipython3",
   "version": "3.8.13"
  }
 },
 "nbformat": 4,
 "nbformat_minor": 4
}
